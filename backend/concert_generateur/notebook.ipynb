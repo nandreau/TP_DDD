{
 "cells": [
  {
   "cell_type": "code",
   "execution_count": 1,
   "metadata": {},
   "outputs": [],
   "source": [
    "import pandas as pd\n",
    "import numpy as np\n",
    "import matplotlib.pyplot as plt\n",
    "import warnings\n",
    "warnings.simplefilter(action='ignore', category=FutureWarning)\n",
    "import seaborn as sns"
   ]
  },
  {
   "cell_type": "code",
   "execution_count": 3,
   "metadata": {},
   "outputs": [
    {
     "data": {
      "text/plain": [
       "Index(['AverageOnlineTicketPurchaseRate', 'AverageConcertParticipationRate',\n",
       "       'QuintileAverageCulturalSpendingPerCapita',\n",
       "       'AnnualAverageCulturalSpendingPerCapita',\n",
       "       'MeanEstimatedCulturalExpensesUntil2030',\n",
       "       'SpotifyStreamsTotalPerCountry', 'NumberOfTracksPerCountry',\n",
       "       'TopChartPresencePerCountry', 'AverageConcertAudiencePerCountry',\n",
       "       'AverageCulturalSpendingPerCapita', 'CountryCode', 'CountryCluster'],\n",
       "      dtype='object')"
      ]
     },
     "execution_count": 3,
     "metadata": {},
     "output_type": "execute_result"
    }
   ],
   "source": [
    "df_demographics = pd.read_csv(\"data/Demographic_stats_per_country.csv\")\n",
    "df_demographics.head()\n",
    "df_demographics.columns\n"
   ]
  },
  {
   "cell_type": "code",
   "execution_count": 5,
   "metadata": {},
   "outputs": [
    {
     "data": {
      "text/html": [
       "<div>\n",
       "<style scoped>\n",
       "    .dataframe tbody tr th:only-of-type {\n",
       "        vertical-align: middle;\n",
       "    }\n",
       "\n",
       "    .dataframe tbody tr th {\n",
       "        vertical-align: top;\n",
       "    }\n",
       "\n",
       "    .dataframe thead th {\n",
       "        text-align: right;\n",
       "    }\n",
       "</style>\n",
       "<table border=\"1\" class=\"dataframe\">\n",
       "  <thead>\n",
       "    <tr style=\"text-align: right;\">\n",
       "      <th></th>\n",
       "      <th>AverageOnlineTicketPurchaseRate</th>\n",
       "      <th>AverageConcertParticipationRate</th>\n",
       "      <th>QuintileAverageCulturalSpendingPerCapita</th>\n",
       "      <th>AnnualAverageCulturalSpendingPerCapita</th>\n",
       "      <th>MeanEstimatedCulturalExpensesUntil2030</th>\n",
       "      <th>SpotifyStreamsTotalPerCountry</th>\n",
       "      <th>NumberOfTracksPerCountry</th>\n",
       "      <th>TopChartPresencePerCountry</th>\n",
       "      <th>AverageConcertAudiencePerCountry</th>\n",
       "      <th>AverageCulturalSpendingPerCapita</th>\n",
       "      <th>CountryCode</th>\n",
       "      <th>CountryCluster</th>\n",
       "    </tr>\n",
       "  </thead>\n",
       "  <tbody>\n",
       "    <tr>\n",
       "      <th>44</th>\n",
       "      <td>16.429</td>\n",
       "      <td>-12.6</td>\n",
       "      <td>1072.596</td>\n",
       "      <td>5362.98</td>\n",
       "      <td>660.464434</td>\n",
       "      <td>1.534314e+09</td>\n",
       "      <td>4982.0</td>\n",
       "      <td>3189713.0</td>\n",
       "      <td>60000.0</td>\n",
       "      <td>660.464434</td>\n",
       "      <td>FR</td>\n",
       "      <td>2</td>\n",
       "    </tr>\n",
       "  </tbody>\n",
       "</table>\n",
       "</div>"
      ],
      "text/plain": [
       "    AverageOnlineTicketPurchaseRate  AverageConcertParticipationRate  \\\n",
       "44                           16.429                            -12.6   \n",
       "\n",
       "    QuintileAverageCulturalSpendingPerCapita  \\\n",
       "44                                  1072.596   \n",
       "\n",
       "    AnnualAverageCulturalSpendingPerCapita  \\\n",
       "44                                 5362.98   \n",
       "\n",
       "    MeanEstimatedCulturalExpensesUntil2030  SpotifyStreamsTotalPerCountry  \\\n",
       "44                              660.464434                   1.534314e+09   \n",
       "\n",
       "    NumberOfTracksPerCountry  TopChartPresencePerCountry  \\\n",
       "44                    4982.0                   3189713.0   \n",
       "\n",
       "    AverageConcertAudiencePerCountry  AverageCulturalSpendingPerCapita  \\\n",
       "44                           60000.0                        660.464434   \n",
       "\n",
       "   CountryCode  CountryCluster  \n",
       "44          FR               2  "
      ]
     },
     "execution_count": 5,
     "metadata": {},
     "output_type": "execute_result"
    }
   ],
   "source": [
    "# afficher sur la france\n",
    "df_demographics[df_demographics['CountryCode'] == 'FR']\n"
   ]
  },
  {
   "cell_type": "code",
   "execution_count": null,
   "metadata": {},
   "outputs": [],
   "source": []
  }
 ],
 "metadata": {
  "kernelspec": {
   "display_name": "Python 3",
   "language": "python",
   "name": "python3"
  },
  "language_info": {
   "codemirror_mode": {
    "name": "ipython",
    "version": 3
   },
   "file_extension": ".py",
   "mimetype": "text/x-python",
   "name": "python",
   "nbconvert_exporter": "python",
   "pygments_lexer": "ipython3",
   "version": "3.13.2"
  }
 },
 "nbformat": 4,
 "nbformat_minor": 2
}
